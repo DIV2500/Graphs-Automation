{
 "cells": [
  {
   "cell_type": "code",
   "execution_count": 7,
   "id": "52d14a23",
   "metadata": {},
   "outputs": [],
   "source": [
    "#importing the required packages\n",
    "import pandas as pd\n",
    "import matplotlib.pyplot as plt\n",
    "import os\n",
    "import seaborn as sns\n",
    "import warnings\n",
    "warnings.filterwarnings(\"ignore\")   #optional to ignore the warnings "
   ]
  },
  {
   "cell_type": "code",
   "execution_count": 24,
   "id": "954ac193",
   "metadata": {},
   "outputs": [],
   "source": [
    "#reading the data\n",
    "#data = pd.read_csv(r\"C:\\Users\\anjit\\Documents\\cars.csv\")"
   ]
  },
  {
   "cell_type": "markdown",
   "id": "6adbb22c",
   "metadata": {},
   "source": [
    "**Problem Statement**\n",
    "\n",
    "Exploratory Data Analysis, or EDA, is an important step in any Data Analysis or Data Science project. EDA is the process of investigating the dataset to discover patterns, and anomalies (outliers), and form hypotheses based on our understanding of the dataset.EDA involves generating summary statistics for numerical data in the dataset and creating various graphical representations to understand the data better.\n",
    "\n",
    "Being one of the most important step it is also a very lengthy process. The creation of plots takes a decent amount of time.Automating the process of plotting the graphs could save a lot of time in the EDA process and reduce the effort of a data scientist significantly."
   ]
  },
  {
   "cell_type": "markdown",
   "id": "4add0256",
   "metadata": {},
   "source": [
    "**Objective**\n",
    "\n",
    "We intend to solve this problem by creating a function 'Graphs' which takes the dataframe data, list of required columns and the directory ( to store the plots generated). The function separates the data frame passed into two new dataframes with numerical and categorical columns. \n",
    "The output of the function stores histogram and boxplot for numerical columns as a single plot and a bar graph for categorical columns.\n",
    "\n",
    "Seaborn package have been used to plot the Histograms and Barplots for each of the numerical dataframe.\n"
   ]
  },
  {
   "cell_type": "markdown",
   "id": "1b450620",
   "metadata": {},
   "source": [
    "**Expectation**\n",
    "\n",
    "The function that we have created should automate the process of plotting the graphs and save the resultant graphs as a png file in a specified directory. We must get a boxplot and a histogram for all columns with numeric values and a barplot for all columns with categorical values. The histogram and boxplot should be saved in one png file as subplots. If the directory is not specified then the plots must be saved in the current working directory."
   ]
  },
  {
   "cell_type": "code",
   "execution_count": 8,
   "id": "b8be4518",
   "metadata": {},
   "outputs": [],
   "source": [
    "#The function Graphs takes the dataframe data, list of required columns and the directory ( to store the plots generated) \n",
    "#and outputs a histogram and boxplot for numerical columns and a bar graph for categorical columns.\n",
    "#The entire column list of the dataframe and the current directory are passed as default parameters \n",
    "#for the cols and directory arguments respectively\n",
    "def Graphs(data,cols=None,directory = os.getcwd()):\n",
    "    if cols==None:\n",
    "        cols=data.columns\n",
    "    #separate the numerical columns into dataframe dt_numerics and the categorical columns into dataframe dt_objs\n",
    "    df_numerics = data[cols].select_dtypes('number')\n",
    "    df_objs = data[cols].select_dtypes('object')\n",
    "    \n",
    "   #for each of the columns of dt_numerics dataframe, we are plotting boxplot and a histogram\n",
    "   #combine the two plots and store it in the directory path being passed.\n",
    "   #if no path is passed, by default the plot is stored in the current directory\n",
    "\n",
    "    for col in df_numerics:\n",
    "        #each of the plot will be stored with file name as the columnname with file format png\n",
    "        my_file = col + \".png\"\n",
    "        \n",
    "        #merge the two plots using 'subplot', we have two rows in the plot (one for boxplot and another for histogram)\n",
    "        #sharex parameter is set to true as the axis will be shared amoung all subplots \n",
    "        #and the grid has been created with the required height ratios\n",
    "        f, (ax_box, ax_hist) = plt.subplots(2, sharex=True, \n",
    "                                    gridspec_kw={\"height_ratios\": (.95, .95)})\n",
    "        #create a boxplot using the seaborn package for each of the columns passed and set the title and x and y labels\n",
    "        sns.boxplot(df_numerics[col], ax=ax_box)\n",
    "        #setting the title\n",
    "        ax_box.set_title('Boxplot and Histogram of %s'%col,fontdict= { 'fontsize': 14, 'fontweight':'bold'})\n",
    "        plt.xlabel(col,fontsize =12)\n",
    "        \n",
    "        #create a histogram using the seaborn package for each of the columns passed and set the title and x and y labels\n",
    "        sns.histplot(df_numerics[col], ax=ax_hist)\n",
    "        plt.xlabel(col,fontsize =12)\n",
    "        plt.ylabel(\"   Frequency   \",fontsize =12)\n",
    "\n",
    "        #save the figure in the directory with filename of format <columnname>.png\n",
    "        plt.savefig(os.path.join(directory, my_file),format=\"png\" )  \n",
    "        plt.close()\n",
    "    \n",
    "    #for each of the columns of dt_objs dataframe, we are plotting barplot\n",
    "    for col in df_objs:\n",
    "        #the plot will be stored with file name as the columnname with file format png\n",
    "        my_file = col + \".png\"\n",
    "        #plot the bar graph with counts as y-axis, \n",
    "        #limiting the number of bars displayed to 20 (to avoid clutter), specify the color and fontsize of the bar plots\n",
    "        df_objs[col].value_counts().sort_values()[:20].plot(kind ='bar', figsize=(8,10), color=\"coral\", fontsize = 13)\n",
    "        #define the x-label , y-label and the title for the barplot\n",
    "        plt.xlabel(col,fontsize =12)\n",
    "        plt.ylabel(\"%s Counts\"%col,fontsize =12)\n",
    "        plt.title(\"Barplot of %s\"%col,fontsize =16)\n",
    "        \n",
    "        #save the figure in the directory with filename of format <columnname>.png\n",
    "        plt.savefig(os.path.join(directory, my_file))\n",
    "        plt.close()"
   ]
  },
  {
   "cell_type": "code",
   "execution_count": 36,
   "id": "04ffce59",
   "metadata": {},
   "outputs": [],
   "source": [
    "#Function call for Graphs takes the dataframe data, list of required columns and the directory ( to store the plots generated) \n",
    "#and outputs a histogram and boxplot for numerical columns and a bar graph for categorical columns.\n",
    "#Graphs(data,directory = \"C:\\\\Users\\\\anjit\\\\Documents\\\\graphs\")"
   ]
  },
  {
   "cell_type": "code",
   "execution_count": null,
   "id": "fc04c3d0",
   "metadata": {},
   "outputs": [],
   "source": []
  }
 ],
 "metadata": {
  "kernelspec": {
   "display_name": "Python 3",
   "language": "python",
   "name": "python3"
  },
  "language_info": {
   "codemirror_mode": {
    "name": "ipython",
    "version": 3
   },
   "file_extension": ".py",
   "mimetype": "text/x-python",
   "name": "python",
   "nbconvert_exporter": "python",
   "pygments_lexer": "ipython3",
   "version": "3.8.8"
  }
 },
 "nbformat": 4,
 "nbformat_minor": 5
}
